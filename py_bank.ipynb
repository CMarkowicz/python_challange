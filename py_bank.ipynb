{
 "cells": [
  {
   "cell_type": "code",
   "execution_count": 1,
   "metadata": {},
   "outputs": [],
   "source": [
    "import pandas as pd\n"
   ]
  },
  {
   "cell_type": "code",
   "execution_count": 2,
   "metadata": {},
   "outputs": [
    {
     "data": {
      "text/html": [
       "<div>\n",
       "<style scoped>\n",
       "    .dataframe tbody tr th:only-of-type {\n",
       "        vertical-align: middle;\n",
       "    }\n",
       "\n",
       "    .dataframe tbody tr th {\n",
       "        vertical-align: top;\n",
       "    }\n",
       "\n",
       "    .dataframe thead th {\n",
       "        text-align: right;\n",
       "    }\n",
       "</style>\n",
       "<table border=\"1\" class=\"dataframe\">\n",
       "  <thead>\n",
       "    <tr style=\"text-align: right;\">\n",
       "      <th></th>\n",
       "      <th>Date</th>\n",
       "      <th>Profit/Losses</th>\n",
       "    </tr>\n",
       "  </thead>\n",
       "  <tbody>\n",
       "    <tr>\n",
       "      <td>0</td>\n",
       "      <td>Jan-2010</td>\n",
       "      <td>867884</td>\n",
       "    </tr>\n",
       "    <tr>\n",
       "      <td>1</td>\n",
       "      <td>Feb-2010</td>\n",
       "      <td>984655</td>\n",
       "    </tr>\n",
       "    <tr>\n",
       "      <td>2</td>\n",
       "      <td>Mar-2010</td>\n",
       "      <td>322013</td>\n",
       "    </tr>\n",
       "    <tr>\n",
       "      <td>3</td>\n",
       "      <td>Apr-2010</td>\n",
       "      <td>-69417</td>\n",
       "    </tr>\n",
       "    <tr>\n",
       "      <td>4</td>\n",
       "      <td>May-2010</td>\n",
       "      <td>310503</td>\n",
       "    </tr>\n",
       "    <tr>\n",
       "      <td>5</td>\n",
       "      <td>Jun-2010</td>\n",
       "      <td>522857</td>\n",
       "    </tr>\n",
       "    <tr>\n",
       "      <td>6</td>\n",
       "      <td>Jul-2010</td>\n",
       "      <td>1033096</td>\n",
       "    </tr>\n",
       "    <tr>\n",
       "      <td>7</td>\n",
       "      <td>Aug-2010</td>\n",
       "      <td>604885</td>\n",
       "    </tr>\n",
       "    <tr>\n",
       "      <td>8</td>\n",
       "      <td>Sep-2010</td>\n",
       "      <td>-216386</td>\n",
       "    </tr>\n",
       "    <tr>\n",
       "      <td>9</td>\n",
       "      <td>Oct-2010</td>\n",
       "      <td>477532</td>\n",
       "    </tr>\n",
       "  </tbody>\n",
       "</table>\n",
       "</div>"
      ],
      "text/plain": [
       "       Date  Profit/Losses\n",
       "0  Jan-2010         867884\n",
       "1  Feb-2010         984655\n",
       "2  Mar-2010         322013\n",
       "3  Apr-2010         -69417\n",
       "4  May-2010         310503\n",
       "5  Jun-2010         522857\n",
       "6  Jul-2010        1033096\n",
       "7  Aug-2010         604885\n",
       "8  Sep-2010        -216386\n",
       "9  Oct-2010         477532"
      ]
     },
     "execution_count": 2,
     "metadata": {},
     "output_type": "execute_result"
    }
   ],
   "source": [
    "# no need for \"resources because the file is in the same folder as the py_bank panda file\"\n",
    "csv_path = \"budget_data.csv\"\n",
    "py_bank_df = pd.read_csv(csv_path)\n",
    "py_bank_df.head(10)"
   ]
  },
  {
   "cell_type": "code",
   "execution_count": 3,
   "metadata": {},
   "outputs": [
    {
     "data": {
      "text/plain": [
       "86"
      ]
     },
     "execution_count": 3,
     "metadata": {},
     "output_type": "execute_result"
    }
   ],
   "source": [
    "# how many months \n",
    "months_py_bank_df = py_bank_df[\"Date\"].count()\n",
    "months_py_bank_df"
   ]
  },
  {
   "cell_type": "code",
   "execution_count": 4,
   "metadata": {},
   "outputs": [
    {
     "data": {
      "text/plain": [
       "38382578"
      ]
     },
     "execution_count": 4,
     "metadata": {},
     "output_type": "execute_result"
    }
   ],
   "source": [
    "net_total_df = py_bank_df[\"Profit/Losses\"].sum()\n",
    "net_total_df"
   ]
  },
  {
   "cell_type": "code",
   "execution_count": 9,
   "metadata": {},
   "outputs": [
    {
     "data": {
      "text/html": [
       "<div>\n",
       "<style scoped>\n",
       "    .dataframe tbody tr th:only-of-type {\n",
       "        vertical-align: middle;\n",
       "    }\n",
       "\n",
       "    .dataframe tbody tr th {\n",
       "        vertical-align: top;\n",
       "    }\n",
       "\n",
       "    .dataframe thead th {\n",
       "        text-align: right;\n",
       "    }\n",
       "</style>\n",
       "<table border=\"1\" class=\"dataframe\">\n",
       "  <thead>\n",
       "    <tr style=\"text-align: right;\">\n",
       "      <th></th>\n",
       "      <th>Date</th>\n",
       "      <th>Profit/Losses</th>\n",
       "      <th>Profit/Loss Diff</th>\n",
       "      <th>Difference</th>\n",
       "    </tr>\n",
       "  </thead>\n",
       "  <tbody>\n",
       "    <tr>\n",
       "      <td>0</td>\n",
       "      <td>Jan-2010</td>\n",
       "      <td>867884</td>\n",
       "      <td>NaN</td>\n",
       "      <td>NaN</td>\n",
       "    </tr>\n",
       "    <tr>\n",
       "      <td>1</td>\n",
       "      <td>Feb-2010</td>\n",
       "      <td>984655</td>\n",
       "      <td>116771.0</td>\n",
       "      <td>116771.0</td>\n",
       "    </tr>\n",
       "    <tr>\n",
       "      <td>2</td>\n",
       "      <td>Mar-2010</td>\n",
       "      <td>322013</td>\n",
       "      <td>-662642.0</td>\n",
       "      <td>-662642.0</td>\n",
       "    </tr>\n",
       "    <tr>\n",
       "      <td>3</td>\n",
       "      <td>Apr-2010</td>\n",
       "      <td>-69417</td>\n",
       "      <td>-391430.0</td>\n",
       "      <td>-391430.0</td>\n",
       "    </tr>\n",
       "    <tr>\n",
       "      <td>4</td>\n",
       "      <td>May-2010</td>\n",
       "      <td>310503</td>\n",
       "      <td>379920.0</td>\n",
       "      <td>379920.0</td>\n",
       "    </tr>\n",
       "  </tbody>\n",
       "</table>\n",
       "</div>"
      ],
      "text/plain": [
       "       Date  Profit/Losses  Profit/Loss Diff  Difference\n",
       "0  Jan-2010         867884               NaN         NaN\n",
       "1  Feb-2010         984655          116771.0    116771.0\n",
       "2  Mar-2010         322013         -662642.0   -662642.0\n",
       "3  Apr-2010         -69417         -391430.0   -391430.0\n",
       "4  May-2010         310503          379920.0    379920.0"
      ]
     },
     "execution_count": 9,
     "metadata": {},
     "output_type": "execute_result"
    }
   ],
   "source": [
    "# py_bank_max = py_bank_df['Profit/Losses'].max()\n",
    "# py_bank_min = py_bank_df['Profit/Losses'].min()\n",
    "\n",
    "# average_change = (py_bank_max - py_bank_min)/months_py_bank_df\n",
    "# average_change\n",
    "\n",
    "# diff gives the differendce in PL and gthe means gives the average\n",
    "# py_bank_df[\"Profit/Loss Diff\"] = py_bank_df[\"Profit/Losses\"].diff()\n",
    "# profit_loss_average = profit_loss_diff.mean()\n",
    "# profit_loss_average\n",
    "Difference = py_bank_df[\"Profit/Losses\"].diff(+1)\n",
    "py_bank_df[\"Difference\"] = Difference\n",
    "py_bank_df.head()\n",
    "                                            "
   ]
  },
  {
   "cell_type": "code",
   "execution_count": 21,
   "metadata": {},
   "outputs": [
    {
     "name": "stdout",
     "output_type": "stream",
     "text": [
      "$ 1926159.0 25    Feb-2012\n",
      "Name: Date, dtype: object\n"
     ]
    }
   ],
   "source": [
    "greatest_increase = py_bank_df[\"Difference\"].max()\n",
    "print(\"$\", greatest_increase, py_bank_df.loc[py_bank_df[\"Difference\"]==1926159, \"Date\"])\n",
    "                                          "
   ]
  },
  {
   "cell_type": "code",
   "execution_count": 43,
   "metadata": {},
   "outputs": [
    {
     "name": "stdout",
     "output_type": "stream",
     "text": [
      "$ -2196167.0 44    Sep-2013\n",
      "Name: Date, dtype: object\n"
     ]
    }
   ],
   "source": [
    "greatest_decrease = round(py_bank_df[\"Difference\"].min(),2)\n",
    "print(\"$\", greatest_decrease, py_bank_df.loc[py_bank_df[\"Difference\"]==-2196167, \"Date\"])"
   ]
  },
  {
   "cell_type": "code",
   "execution_count": 37,
   "metadata": {},
   "outputs": [
    {
     "name": "stdout",
     "output_type": "stream",
     "text": [
      "$ -2315.12\n"
     ]
    }
   ],
   "source": [
    "average_change = round(py_bank_df[\"Difference\"].mean(),2)\n",
    "print(\"$\", average_change)\n"
   ]
  },
  {
   "cell_type": "code",
   "execution_count": 48,
   "metadata": {},
   "outputs": [
    {
     "name": "stdout",
     "output_type": "stream",
     "text": [
      "Total Months: 86\n",
      "Total $ 38382578\n",
      "Average Change: $ -2315.12\n",
      "Greatest decrease in Profit: $ -2196167.0 44    Sep-2013\n",
      "Name: Date, dtype: object\n",
      "Greatest increase in Profit: $ 1926159.0 25    Feb-2012\n",
      "Name: Date, dtype: object\n"
     ]
    }
   ],
   "source": [
    "print(\"Total Months:\", months_py_bank_df)\n",
    "print(\"Total\",\"$\", net_total_df )\n",
    "print(\"Average Change:\", \"$\", average_change)\n",
    "print(\"Greatest decrease in Profit:\",\"$\", greatest_decrease, py_bank_df.loc[py_bank_df[\"Difference\"]==-2196167, \"Date\"])\n",
    "print(\"Greatest increase in Profit:\", \"$\", greatest_increase, py_bank_df.loc[py_bank_df[\"Difference\"]==1926159, \"Date\"])"
   ]
  },
  {
   "cell_type": "code",
   "execution_count": null,
   "metadata": {},
   "outputs": [],
   "source": []
  }
 ],
 "metadata": {
  "kernelspec": {
   "display_name": "Python 3",
   "language": "python",
   "name": "python3"
  },
  "language_info": {
   "codemirror_mode": {
    "name": "ipython",
    "version": 3
   },
   "file_extension": ".py",
   "mimetype": "text/x-python",
   "name": "python",
   "nbconvert_exporter": "python",
   "pygments_lexer": "ipython3",
   "version": "3.7.4"
  }
 },
 "nbformat": 4,
 "nbformat_minor": 2
}
